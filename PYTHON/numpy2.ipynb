{
 "cells": [
  {
   "cell_type": "code",
   "execution_count": 1,
   "id": "e41a2ece-ae43-4627-b3d4-96fdd8baa04b",
   "metadata": {},
   "outputs": [],
   "source": [
    "import numpy as np"
   ]
  },
  {
   "cell_type": "code",
   "execution_count": 2,
   "id": "ceac5638-de4a-4bf3-920e-0b9266a19840",
   "metadata": {},
   "outputs": [],
   "source": [
    "arr = np.array([1,2,3,4,5])"
   ]
  },
  {
   "cell_type": "code",
   "execution_count": 3,
   "id": "b9348d28-ec17-4d31-b8c8-323e742ffee3",
   "metadata": {},
   "outputs": [
    {
     "name": "stdout",
     "output_type": "stream",
     "text": [
      "Original array:  [1 2 3 4 5]\n",
      "First element:  1\n",
      "Last array:  5\n"
     ]
    }
   ],
   "source": [
    "print(\"Original array: \",arr)\n",
    "print(\"First element: \",arr[0])\n",
    "print(\"Last array: \",arr[-1])"
   ]
  },
  {
   "cell_type": "code",
   "execution_count": 4,
   "id": "0d284062-7cb4-4381-921c-b4eeb0115c2b",
   "metadata": {},
   "outputs": [
    {
     "name": "stdout",
     "output_type": "stream",
     "text": [
      "Array after modification:  [10  2  3  4  5]\n"
     ]
    }
   ],
   "source": [
    "arr[0] = 10\n",
    "print(\"Array after modification: \", arr)"
   ]
  },
  {
   "cell_type": "code",
   "execution_count": 5,
   "id": "c970fe02-802c-4e62-a6d4-1a01032581c6",
   "metadata": {},
   "outputs": [],
   "source": [
    "arr = np.array([[1,2,3],[4,5,6],[7,8,9]])"
   ]
  },
  {
   "cell_type": "code",
   "execution_count": 6,
   "id": "4853687c-c3b7-4093-bf76-d6f7a3134b20",
   "metadata": {},
   "outputs": [
    {
     "name": "stdout",
     "output_type": "stream",
     "text": [
      "Original array: \n",
      " [[1 2 3]\n",
      " [4 5 6]\n",
      " [7 8 9]]\n",
      "Element at position (1,1):  5\n"
     ]
    }
   ],
   "source": [
    "print(\"Original array: \\n\",arr)\n",
    "print(\"Element at position (1,1): \",arr[1,1])"
   ]
  },
  {
   "cell_type": "code",
   "execution_count": 7,
   "id": "fb2c9dbb-34d3-4c7c-a2ba-cf19571d1cee",
   "metadata": {},
   "outputs": [
    {
     "name": "stdout",
     "output_type": "stream",
     "text": [
      "Array after modification: \n",
      " [[10  2  3]\n",
      " [ 4  5  6]\n",
      " [ 7  8  9]]\n"
     ]
    }
   ],
   "source": [
    "arr[0, 0] = 10\n",
    "print(\"Array after modification: \\n\", arr)"
   ]
  },
  {
   "cell_type": "code",
   "execution_count": 8,
   "id": "18728ce1-eb5c-49fe-a418-4d09faa13e93",
   "metadata": {},
   "outputs": [],
   "source": [
    "arr = np.array([1,2,3,4,5])"
   ]
  },
  {
   "cell_type": "code",
   "execution_count": 10,
   "id": "de2d2ff8-c2f5-49f0-9073-1f7adb3d3245",
   "metadata": {},
   "outputs": [
    {
     "name": "stdout",
     "output_type": "stream",
     "text": [
      "Original array: \n",
      " [1 2 3 4 5]\n",
      "Element greater than 2:  [3 4 5]\n"
     ]
    }
   ],
   "source": [
    "print(\"Original array: \\n\",arr)\n",
    "print(\"Element greater than 2: \",arr[arr > 2])"
   ]
  },
  {
   "cell_type": "code",
   "execution_count": 12,
   "id": "a84b7a7d-bc26-4203-a7b4-3b2ad3ac0b4f",
   "metadata": {},
   "outputs": [
    {
     "name": "stdout",
     "output_type": "stream",
     "text": [
      "Slice of the array:  [2 3 4]\n",
      "Original array after modification:  [1 2 3 4 5]\n"
     ]
    }
   ],
   "source": [
    "slice_arr = arr[1:4]\n",
    "print(\"Slice of the array: \", slice_arr)"
   ]
  },
  {
   "cell_type": "code",
   "execution_count": 14,
   "id": "1f5f0b52-2c71-4096-a973-9c1348c2203a",
   "metadata": {},
   "outputs": [],
   "source": [
    "slice_arr[0] = 10"
   ]
  },
  {
   "cell_type": "code",
   "execution_count": 15,
   "id": "c2d50454-c094-420c-a484-042fe321f5d3",
   "metadata": {},
   "outputs": [
    {
     "name": "stdout",
     "output_type": "stream",
     "text": [
      "Slice after modification:  [10  3  4]\n",
      "Original array after modification:  [ 1 10  3  4  5]\n"
     ]
    }
   ],
   "source": [
    "print(\"Slice after modification: \", slice_arr)\n",
    "print(\"Original array after modification: \", arr)"
   ]
  },
  {
   "cell_type": "code",
   "execution_count": null,
   "id": "37140a84-8f11-490b-96a4-53a2ad6bf5d8",
   "metadata": {},
   "outputs": [],
   "source": [
    "print('test')"
   ]
  }
 ],
 "metadata": {
  "kernelspec": {
   "display_name": "Python 3 (ipykernel)",
   "language": "python",
   "name": "python3"
  },
  "language_info": {
   "codemirror_mode": {
    "name": "ipython",
    "version": 3
   },
   "file_extension": ".py",
   "mimetype": "text/x-python",
   "name": "python",
   "nbconvert_exporter": "python",
   "pygments_lexer": "ipython3",
   "version": "3.8.10"
  }
 },
 "nbformat": 4,
 "nbformat_minor": 5
}
