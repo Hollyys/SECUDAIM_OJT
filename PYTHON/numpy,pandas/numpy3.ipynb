{
 "cells": [
  {
   "cell_type": "code",
   "execution_count": 29,
   "id": "821d417d-2a30-45f0-8047-665a0c5d812c",
   "metadata": {},
   "outputs": [],
   "source": [
    "import numpy as np"
   ]
  },
  {
   "cell_type": "code",
   "execution_count": 30,
   "id": "eb9d1fa0-b712-4ad4-b990-39f87ff1a991",
   "metadata": {},
   "outputs": [],
   "source": [
    "data = np.array([[1,2,3],[4,5,6]])"
   ]
  },
  {
   "cell_type": "code",
   "execution_count": 31,
   "id": "878a2a9c-9895-47f7-bf7c-8bed6a38e864",
   "metadata": {},
   "outputs": [
    {
     "name": "stdout",
     "output_type": "stream",
     "text": [
      "21\n"
     ]
    }
   ],
   "source": [
    "total = np.sum(data, axis = None)\n",
    "print(total)"
   ]
  },
  {
   "cell_type": "code",
   "execution_count": 32,
   "id": "aa30337e-1f2f-4932-bda2-b42fc6ccac53",
   "metadata": {},
   "outputs": [
    {
     "name": "stdout",
     "output_type": "stream",
     "text": [
      "[5 7 9]\n"
     ]
    }
   ],
   "source": [
    "total_column = np.sum(data, axis = 0)\n",
    "print(total_column)"
   ]
  },
  {
   "cell_type": "code",
   "execution_count": 33,
   "id": "3f1ec1ed-2e6c-408d-921b-90c334c62080",
   "metadata": {},
   "outputs": [],
   "source": [
    "data = np.array([1,2,3,4,5,6])"
   ]
  },
  {
   "cell_type": "code",
   "execution_count": 34,
   "id": "1baac31d-362a-4326-bbeb-872d625f339c",
   "metadata": {},
   "outputs": [
    {
     "name": "stdout",
     "output_type": "stream",
     "text": [
      "1\n",
      "6\n"
     ]
    }
   ],
   "source": [
    "minimum = np.min(data)\n",
    "maximum = np.max(data)\n",
    "print(minimum)\n",
    "print(maximum)"
   ]
  },
  {
   "cell_type": "code",
   "execution_count": 35,
   "id": "9cf3a42a-e4c8-4b95-bb81-79d420b3b96c",
   "metadata": {},
   "outputs": [
    {
     "name": "stdout",
     "output_type": "stream",
     "text": [
      "1\n",
      "6\n",
      "3.5\n",
      "3.5\n",
      "1.707825127659933\n",
      "2.9166666666666665\n"
     ]
    }
   ],
   "source": [
    "data = np.array([[1,2,3],[4,5,6]])\n",
    "minimum = np.min(data)\n",
    "maximum = np.max(data)\n",
    "average = np.mean(data)\n",
    "middle = np.median(data)\n",
    "std_dev = np.std(data)\n",
    "variance = np.var(data)\n",
    "print(minimum)\n",
    "print(maximum)\n",
    "print(average)\n",
    "print(middle)\n",
    "print(std_dev)\n",
    "print(variance)"
   ]
  },
  {
   "cell_type": "code",
   "execution_count": 36,
   "id": "e6712613-1575-423b-9b1b-c77c2f251967",
   "metadata": {},
   "outputs": [
    {
     "name": "stdout",
     "output_type": "stream",
     "text": [
      "[5 3 1 2 4]\n",
      "[1 2 3 4 5]\n"
     ]
    }
   ],
   "source": [
    "data = np.array([5,3,1,2,4,])\n",
    "sorted_data = np.sort(data)\n",
    "\n",
    "print(data)\n",
    "print(sorted_data)"
   ]
  },
  {
   "cell_type": "code",
   "execution_count": 39,
   "id": "623049fe-b74e-4a52-97e7-8b70d127b1ca",
   "metadata": {},
   "outputs": [
    {
     "name": "stdout",
     "output_type": "stream",
     "text": [
      "[5 3 1 2 4]\n",
      "[2 1 3 4 5]\n",
      "[6 4 2 3 5]\n",
      "[3 2 4 5 6]\n"
     ]
    }
   ],
   "source": [
    "data = np.array([5,3,1,2,4])\n",
    "partitioned_data = np.partition(data, 3)\n",
    "\n",
    "print(data)\n",
    "print(partitioned_data)\n",
    "\n",
    "data = np.array([6,4,2,3,5])\n",
    "partitioned_data = np.partition(data, 3)\n",
    "\n",
    "print(data)\n",
    "print(partitioned_data)"
   ]
  },
  {
   "cell_type": "code",
   "execution_count": 41,
   "id": "32fa45a6-f4c1-4353-95c9-b7be40309586",
   "metadata": {},
   "outputs": [
    {
     "name": "stdout",
     "output_type": "stream",
     "text": [
      "[6 2 3 1 5 4 7 8 9]\n"
     ]
    }
   ],
   "source": [
    "data = np.array([9,5,3,1,2,4,6,8,7])\n",
    "partitioned_data = np.partition(data, 6)\n",
    "\n",
    "print(partitioned_data)"
   ]
  },
  {
   "cell_type": "code",
   "execution_count": 44,
   "id": "e9537a90-6825-4664-aced-11fb12125673",
   "metadata": {},
   "outputs": [
    {
     "name": "stdout",
     "output_type": "stream",
     "text": [
      "[9 5 4 6 8 7]\n"
     ]
    }
   ],
   "source": [
    "data = np.array([9,5,3,1,2,4,6,8,7])\n",
    "index = np.where( data > 3)\n",
    "\n",
    "for idx in index:\n",
    "    print(data[idx])"
   ]
  },
  {
   "cell_type": "code",
   "execution_count": 47,
   "id": "a55a99d0-0290-4cad-9322-0411e945dbb8",
   "metadata": {},
   "outputs": [
    {
     "name": "stdout",
     "output_type": "stream",
     "text": [
      "Logical AND: [False False  True]\n",
      "Logical OR: [ True False  True]\n",
      "Logical NOT: [False  True False]\n"
     ]
    }
   ],
   "source": [
    "arr1 = np.array([True,False,True])\n",
    "arr2 = np.array([False,False,True])\n",
    "\n",
    "print(\"Logical AND:\", np.logical_and(arr1,arr2))\n",
    "print(\"Logical OR:\", np.logical_or(arr1,arr2))\n",
    "print(\"Logical NOT:\", np.logical_not(arr1,arr2))"
   ]
  },
  {
   "cell_type": "code",
   "execution_count": null,
   "id": "5f43379d-a7dd-46b9-b617-0c6e247f18ef",
   "metadata": {},
   "outputs": [],
   "source": []
  }
 ],
 "metadata": {
  "kernelspec": {
   "display_name": "Python 3 (ipykernel)",
   "language": "python",
   "name": "python3"
  },
  "language_info": {
   "codemirror_mode": {
    "name": "ipython",
    "version": 3
   },
   "file_extension": ".py",
   "mimetype": "text/x-python",
   "name": "python",
   "nbconvert_exporter": "python",
   "pygments_lexer": "ipython3",
   "version": "3.8.10"
  }
 },
 "nbformat": 4,
 "nbformat_minor": 5
}
