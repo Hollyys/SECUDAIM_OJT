{
 "cells": [
  {
   "cell_type": "code",
   "execution_count": 7,
   "id": "da976035-4715-4a57-a059-3972b0a82e79",
   "metadata": {},
   "outputs": [],
   "source": [
    "import pandas as pd"
   ]
  },
  {
   "cell_type": "code",
   "execution_count": 19,
   "id": "d90092b8-cd0b-4a8b-b092-518447ea4f04",
   "metadata": {},
   "outputs": [
    {
     "name": "stdout",
     "output_type": "stream",
     "text": [
      "   num   word\n",
      "0    1    One\n",
      "1    2    Two\n",
      "2    3  Three\n"
     ]
    }
   ],
   "source": [
    "s1 = pd.core.series.Series([1,2,3])\n",
    "s2 = pd.core.series.Series(['One','Two','Three'])\n",
    "print(pd.DataFrame(data=dict(num=s1, word=s2)))"
   ]
  },
  {
   "cell_type": "code",
   "execution_count": 8,
   "id": "cc8df10a-8138-4592-8d82-c78ef23ae2f4",
   "metadata": {},
   "outputs": [
    {
     "name": "stdout",
     "output_type": "stream",
     "text": [
      "        Id  MSSubClass MSZoning  LotFrontage  LotArea Street Alley LotShape  \\\n",
      "0        1          60       RL         65.0     8450   Pave   NaN      Reg   \n",
      "1        2          20       RL         80.0     9600   Pave   NaN      Reg   \n",
      "2        3          60       RL         68.0    11250   Pave   NaN      IR1   \n",
      "3        4          70       RL         60.0     9550   Pave   NaN      IR1   \n",
      "4        5          60       RL         84.0    14260   Pave   NaN      IR1   \n",
      "...    ...         ...      ...          ...      ...    ...   ...      ...   \n",
      "1455  1456          60       RL         62.0     7917   Pave   NaN      Reg   \n",
      "1456  1457          20       RL         85.0    13175   Pave   NaN      Reg   \n",
      "1457  1458          70       RL         66.0     9042   Pave   NaN      Reg   \n",
      "1458  1459          20       RL         68.0     9717   Pave   NaN      Reg   \n",
      "1459  1460          20       RL         75.0     9937   Pave   NaN      Reg   \n",
      "\n",
      "     LandContour Utilities  ... PoolArea PoolQC  Fence MiscFeature MiscVal  \\\n",
      "0            Lvl    AllPub  ...        0    NaN    NaN         NaN       0   \n",
      "1            Lvl    AllPub  ...        0    NaN    NaN         NaN       0   \n",
      "2            Lvl    AllPub  ...        0    NaN    NaN         NaN       0   \n",
      "3            Lvl    AllPub  ...        0    NaN    NaN         NaN       0   \n",
      "4            Lvl    AllPub  ...        0    NaN    NaN         NaN       0   \n",
      "...          ...       ...  ...      ...    ...    ...         ...     ...   \n",
      "1455         Lvl    AllPub  ...        0    NaN    NaN         NaN       0   \n",
      "1456         Lvl    AllPub  ...        0    NaN  MnPrv         NaN       0   \n",
      "1457         Lvl    AllPub  ...        0    NaN  GdPrv        Shed    2500   \n",
      "1458         Lvl    AllPub  ...        0    NaN    NaN         NaN       0   \n",
      "1459         Lvl    AllPub  ...        0    NaN    NaN         NaN       0   \n",
      "\n",
      "     MoSold YrSold  SaleType  SaleCondition  SalePrice  \n",
      "0         2   2008        WD         Normal     208500  \n",
      "1         5   2007        WD         Normal     181500  \n",
      "2         9   2008        WD         Normal     223500  \n",
      "3         2   2006        WD        Abnorml     140000  \n",
      "4        12   2008        WD         Normal     250000  \n",
      "...     ...    ...       ...            ...        ...  \n",
      "1455      8   2007        WD         Normal     175000  \n",
      "1456      2   2010        WD         Normal     210000  \n",
      "1457      5   2010        WD         Normal     266500  \n",
      "1458      4   2010        WD         Normal     142125  \n",
      "1459      6   2008        WD         Normal     147500  \n",
      "\n",
      "[1460 rows x 81 columns]\n"
     ]
    }
   ],
   "source": [
    "train = pd.read_csv('train.csv')\n",
    "print(train)"
   ]
  },
  {
   "cell_type": "code",
   "execution_count": 21,
   "id": "b0a1a4c5-4e4b-4534-8977-89131d750a83",
   "metadata": {},
   "outputs": [
    {
     "name": "stdout",
     "output_type": "stream",
     "text": [
      "   Id  MSSubClass MSZoning  LotFrontage  LotArea Street Alley LotShape  \\\n",
      "0   1          60       RL         65.0     8450   Pave   NaN      Reg   \n",
      "1   2          20       RL         80.0     9600   Pave   NaN      Reg   \n",
      "\n",
      "  LandContour Utilities  ... PoolArea PoolQC Fence MiscFeature MiscVal MoSold  \\\n",
      "0         Lvl    AllPub  ...        0    NaN   NaN         NaN       0      2   \n",
      "1         Lvl    AllPub  ...        0    NaN   NaN         NaN       0      5   \n",
      "\n",
      "  YrSold  SaleType  SaleCondition  SalePrice  \n",
      "0   2008        WD         Normal     208500  \n",
      "1   2007        WD         Normal     181500  \n",
      "\n",
      "[2 rows x 81 columns]\n"
     ]
    }
   ],
   "source": [
    "print(df.head(2))"
   ]
  },
  {
   "cell_type": "code",
   "execution_count": 12,
   "id": "c74791de-8d4b-486b-a4f8-4bf9f08a84cc",
   "metadata": {},
   "outputs": [
    {
     "name": "stdout",
     "output_type": "stream",
     "text": [
      "RangeIndex(start=0, stop=1460, step=1)\n",
      "[208500 181500 223500 ... 266500 142125 147500]\n"
     ]
    }
   ],
   "source": [
    "print(train['SalePrice'].index)\n",
    "print(train['SalePrice'].values)"
   ]
  },
  {
   "cell_type": "code",
   "execution_count": 22,
   "id": "4f8f1639-e011-4f09-a156-38c660dcf2c1",
   "metadata": {},
   "outputs": [],
   "source": [
    "df = pd.DataFrame(train)"
   ]
  },
  {
   "cell_type": "code",
   "execution_count": 25,
   "id": "343f92da-daec-42e1-bf36-b0477c9e0828",
   "metadata": {},
   "outputs": [
    {
     "name": "stdout",
     "output_type": "stream",
     "text": [
      "   Id  MSSubClass MSZoning  LotFrontage  LotArea Street Alley LotShape  \\\n",
      "0   1          60       RL         65.0     8450   Pave   NaN      Reg   \n",
      "1   2          20       RL         80.0     9600   Pave   NaN      Reg   \n",
      "2   3          60       RL         68.0    11250   Pave   NaN      IR1   \n",
      "3   4          70       RL         60.0     9550   Pave   NaN      IR1   \n",
      "4   5          60       RL         84.0    14260   Pave   NaN      IR1   \n",
      "\n",
      "  LandContour Utilities  ... PoolArea PoolQC Fence MiscFeature MiscVal MoSold  \\\n",
      "0         Lvl    AllPub  ...        0    NaN   NaN         NaN       0      2   \n",
      "1         Lvl    AllPub  ...        0    NaN   NaN         NaN       0      5   \n",
      "2         Lvl    AllPub  ...        0    NaN   NaN         NaN       0      9   \n",
      "3         Lvl    AllPub  ...        0    NaN   NaN         NaN       0      2   \n",
      "4         Lvl    AllPub  ...        0    NaN   NaN         NaN       0     12   \n",
      "\n",
      "  YrSold  SaleType  SaleCondition  SalePrice  \n",
      "0   2008        WD         Normal     208500  \n",
      "1   2007        WD         Normal     181500  \n",
      "2   2008        WD         Normal     223500  \n",
      "3   2006        WD        Abnorml     140000  \n",
      "4   2008        WD         Normal     250000  \n",
      "\n",
      "[5 rows x 81 columns]\n",
      "   Id  MSSubClass MSZoning  LotFrontage  LotArea Street Alley LotShape  \\\n",
      "1   2          20       RL         80.0     9600   Pave   NaN      Reg   \n",
      "2   3          60       RL         68.0    11250   Pave   NaN      IR1   \n",
      "\n",
      "  LandContour Utilities  ... PoolArea PoolQC Fence MiscFeature MiscVal MoSold  \\\n",
      "1         Lvl    AllPub  ...        0    NaN   NaN         NaN       0      5   \n",
      "2         Lvl    AllPub  ...        0    NaN   NaN         NaN       0      9   \n",
      "\n",
      "  YrSold  SaleType  SaleCondition  SalePrice  \n",
      "1   2007        WD         Normal     181500  \n",
      "2   2008        WD         Normal     223500  \n",
      "\n",
      "[2 rows x 81 columns]\n"
     ]
    }
   ],
   "source": [
    "print(df.head())\n",
    "print(df[1:3])"
   ]
  },
  {
   "cell_type": "code",
   "execution_count": 24,
   "id": "4bfcf44a-d6bc-4823-9ce2-f0008b29a8d7",
   "metadata": {},
   "outputs": [
    {
     "name": "stdout",
     "output_type": "stream",
     "text": [
      "[[1 60 'RL' ... 'WD' 'Normal' 208500]\n",
      " [2 20 'RL' ... 'WD' 'Normal' 181500]\n",
      " [3 60 'RL' ... 'WD' 'Normal' 223500]\n",
      " ...\n",
      " [1458 70 'RL' ... 'WD' 'Normal' 266500]\n",
      " [1459 20 'RL' ... 'WD' 'Normal' 142125]\n",
      " [1460 20 'RL' ... 'WD' 'Normal' 147500]]\n",
      "RangeIndex(start=0, stop=1460, step=1)\n"
     ]
    }
   ],
   "source": [
    "print(df.values)\n",
    "print(df.index)"
   ]
  },
  {
   "cell_type": "code",
   "execution_count": 26,
   "id": "92239922-b5e6-449b-af17-357880c23521",
   "metadata": {},
   "outputs": [
    {
     "name": "stdout",
     "output_type": "stream",
     "text": [
      "        Id  MSSubClass MSZoning  LotFrontage  LotArea Street Alley LotShape  \\\n",
      "1        2          20       RL         80.0     9600   Pave   NaN      Reg   \n",
      "6        7          20       RL         75.0    10084   Pave   NaN      Reg   \n",
      "10      11          20       RL         70.0    11200   Pave   NaN      Reg   \n",
      "12      13          20       RL          NaN    12968   Pave   NaN      IR2   \n",
      "13      14          20       RL         91.0    10652   Pave   NaN      IR1   \n",
      "...    ...         ...      ...          ...      ...    ...   ...      ...   \n",
      "1453  1454          20       RL         90.0    17217   Pave   NaN      Reg   \n",
      "1454  1455          20       FV         62.0     7500   Pave  Pave      Reg   \n",
      "1456  1457          20       RL         85.0    13175   Pave   NaN      Reg   \n",
      "1458  1459          20       RL         68.0     9717   Pave   NaN      Reg   \n",
      "1459  1460          20       RL         75.0     9937   Pave   NaN      Reg   \n",
      "\n",
      "     LandContour Utilities  ... PoolArea PoolQC  Fence MiscFeature MiscVal  \\\n",
      "1            Lvl    AllPub  ...        0    NaN    NaN         NaN       0   \n",
      "6            Lvl    AllPub  ...        0    NaN    NaN         NaN       0   \n",
      "10           Lvl    AllPub  ...        0    NaN    NaN         NaN       0   \n",
      "12           Lvl    AllPub  ...        0    NaN    NaN         NaN       0   \n",
      "13           Lvl    AllPub  ...        0    NaN    NaN         NaN       0   \n",
      "...          ...       ...  ...      ...    ...    ...         ...     ...   \n",
      "1453         Lvl    AllPub  ...        0    NaN    NaN         NaN       0   \n",
      "1454         Lvl    AllPub  ...        0    NaN    NaN         NaN       0   \n",
      "1456         Lvl    AllPub  ...        0    NaN  MnPrv         NaN       0   \n",
      "1458         Lvl    AllPub  ...        0    NaN    NaN         NaN       0   \n",
      "1459         Lvl    AllPub  ...        0    NaN    NaN         NaN       0   \n",
      "\n",
      "     MoSold YrSold  SaleType  SaleCondition  SalePrice  \n",
      "1         5   2007        WD         Normal     181500  \n",
      "6         8   2007        WD         Normal     307000  \n",
      "10        2   2008        WD         Normal     129500  \n",
      "12        9   2008        WD         Normal     144000  \n",
      "13        8   2007       New        Partial     279500  \n",
      "...     ...    ...       ...            ...        ...  \n",
      "1453      7   2006        WD        Abnorml      84500  \n",
      "1454     10   2009        WD         Normal     185000  \n",
      "1456      2   2010        WD         Normal     210000  \n",
      "1458      4   2010        WD         Normal     142125  \n",
      "1459      6   2008        WD         Normal     147500  \n",
      "\n",
      "[536 rows x 81 columns]\n"
     ]
    }
   ],
   "source": [
    "print(df[df.MSSubClass < 30])"
   ]
  },
  {
   "cell_type": "code",
   "execution_count": 28,
   "id": "bb17f1c3-9f8b-4a61-80d4-54dd566bf22c",
   "metadata": {},
   "outputs": [
    {
     "name": "stdout",
     "output_type": "stream",
     "text": [
      "        Id  MSSubClass MSZoning  LotFrontage  LotArea Street Alley LotShape  \\\n",
      "1        2          20       RL         80.0     9600   Pave   NaN      Reg   \n",
      "6        7          20       RL         75.0    10084   Pave   NaN      Reg   \n",
      "10      11          20       RL         70.0    11200   Pave   NaN      Reg   \n",
      "12      13          20       RL          NaN    12968   Pave   NaN      IR2   \n",
      "13      14          20       RL         91.0    10652   Pave   NaN      IR1   \n",
      "...    ...         ...      ...          ...      ...    ...   ...      ...   \n",
      "1453  1454          20       RL         90.0    17217   Pave   NaN      Reg   \n",
      "1454  1455          20       FV         62.0     7500   Pave  Pave      Reg   \n",
      "1456  1457          20       RL         85.0    13175   Pave   NaN      Reg   \n",
      "1458  1459          20       RL         68.0     9717   Pave   NaN      Reg   \n",
      "1459  1460          20       RL         75.0     9937   Pave   NaN      Reg   \n",
      "\n",
      "     LandContour Utilities  ... PoolArea PoolQC  Fence MiscFeature MiscVal  \\\n",
      "1            Lvl    AllPub  ...        0    NaN    NaN         NaN       0   \n",
      "6            Lvl    AllPub  ...        0    NaN    NaN         NaN       0   \n",
      "10           Lvl    AllPub  ...        0    NaN    NaN         NaN       0   \n",
      "12           Lvl    AllPub  ...        0    NaN    NaN         NaN       0   \n",
      "13           Lvl    AllPub  ...        0    NaN    NaN         NaN       0   \n",
      "...          ...       ...  ...      ...    ...    ...         ...     ...   \n",
      "1453         Lvl    AllPub  ...        0    NaN    NaN         NaN       0   \n",
      "1454         Lvl    AllPub  ...        0    NaN    NaN         NaN       0   \n",
      "1456         Lvl    AllPub  ...        0    NaN  MnPrv         NaN       0   \n",
      "1458         Lvl    AllPub  ...        0    NaN    NaN         NaN       0   \n",
      "1459         Lvl    AllPub  ...        0    NaN    NaN         NaN       0   \n",
      "\n",
      "     MoSold YrSold  SaleType  SaleCondition  SalePrice  \n",
      "1         5   2007        WD         Normal     181500  \n",
      "6         8   2007        WD         Normal     307000  \n",
      "10        2   2008        WD         Normal     129500  \n",
      "12        9   2008        WD         Normal     144000  \n",
      "13        8   2007       New        Partial     279500  \n",
      "...     ...    ...       ...            ...        ...  \n",
      "1453      7   2006        WD        Abnorml      84500  \n",
      "1454     10   2009        WD         Normal     185000  \n",
      "1456      2   2010        WD         Normal     210000  \n",
      "1458      4   2010        WD         Normal     142125  \n",
      "1459      6   2008        WD         Normal     147500  \n",
      "\n",
      "[536 rows x 81 columns]\n"
     ]
    }
   ],
   "source": [
    "print(df.query('MSSubClass < 30'))"
   ]
  },
  {
   "cell_type": "code",
   "execution_count": 32,
   "id": "9e941093-4d56-46eb-aa97-a5225c34d4e3",
   "metadata": {},
   "outputs": [
    {
     "name": "stdout",
     "output_type": "stream",
     "text": [
      "    LotFrontage  LotArea\n",
      "0          65.0     8450\n",
      "1          80.0     9600\n",
      "2          68.0    11250\n",
      "3          60.0     9550\n",
      "4          84.0    14260\n",
      "5          85.0    14115\n",
      "6          75.0    10084\n",
      "7           NaN    10382\n",
      "8          51.0     6120\n",
      "9          50.0     7420\n",
      "10         70.0    11200\n"
     ]
    }
   ],
   "source": [
    "print(df.iloc[0:11, 3:5])"
   ]
  },
  {
   "cell_type": "code",
   "execution_count": null,
   "id": "b395264f-21c2-4aa8-ba10-4972adeb9d19",
   "metadata": {},
   "outputs": [],
   "source": []
  }
 ],
 "metadata": {
  "kernelspec": {
   "display_name": "Python 3 (ipykernel)",
   "language": "python",
   "name": "python3"
  },
  "language_info": {
   "codemirror_mode": {
    "name": "ipython",
    "version": 3
   },
   "file_extension": ".py",
   "mimetype": "text/x-python",
   "name": "python",
   "nbconvert_exporter": "python",
   "pygments_lexer": "ipython3",
   "version": "3.8.10"
  }
 },
 "nbformat": 4,
 "nbformat_minor": 5
}
