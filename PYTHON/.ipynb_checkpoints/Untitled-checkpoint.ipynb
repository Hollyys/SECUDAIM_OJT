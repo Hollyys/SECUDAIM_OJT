{
 "cells": [
  {
   "cell_type": "code",
   "execution_count": null,
   "id": "e41a2ece-ae43-4627-b3d4-96fdd8baa04b",
   "metadata": {},
   "outputs": [],
   "source": [
    "import numpy as np"
   ]
  },
  {
   "cell_type": "code",
   "execution_count": null,
   "id": "ceac5638-de4a-4bf3-920e-0b9266a19840",
   "metadata": {},
   "outputs": [],
   "source": [
    "arr = np.array([1,2,3,4,5])"
   ]
  },
  {
   "cell_type": "code",
   "execution_count": null,
   "id": "b9348d28-ec17-4d31-b8c8-323e742ffee3",
   "metadata": {},
   "outputs": [],
   "source": [
    "print(\"Original array: \",arr)\n",
    "print(\"First element: \",arr[0])\n",
    "print(\"Last array: \",arr[-1])"
   ]
  },
  {
   "cell_type": "code",
   "execution_count": null,
   "id": "0d284062-7cb4-4381-921c-b4eeb0115c2b",
   "metadata": {},
   "outputs": [],
   "source": [
    "arr[0] = 10\n",
    "print(\"Array "
   ]
  }
 ],
 "metadata": {
  "kernelspec": {
   "display_name": "Python 3 (ipykernel)",
   "language": "python",
   "name": "python3"
  },
  "language_info": {
   "codemirror_mode": {
    "name": "ipython",
    "version": 3
   },
   "file_extension": ".py",
   "mimetype": "text/x-python",
   "name": "python",
   "nbconvert_exporter": "python",
   "pygments_lexer": "ipython3",
   "version": "3.8.10"
  }
 },
 "nbformat": 4,
 "nbformat_minor": 5
}
