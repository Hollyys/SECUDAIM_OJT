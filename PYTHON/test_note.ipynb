{
 "cells": [
  {
   "cell_type": "code",
   "execution_count": 2,
   "id": "6d04e513-0c18-4976-9918-4c6cac8ff940",
   "metadata": {},
   "outputs": [],
   "source": [
    "def 핼로월드(str):\n",
    "    print('프린트')"
   ]
  },
  {
   "cell_type": "code",
   "execution_count": 3,
   "id": "f2ffce22-e5b1-4085-b81a-34965cc9e367",
   "metadata": {},
   "outputs": [
    {
     "name": "stdout",
     "output_type": "stream",
     "text": [
      "프린트\n"
     ]
    }
   ],
   "source": [
    "핼로월드('print')"
   ]
  },
  {
   "cell_type": "code",
   "execution_count": null,
   "id": "f8b5c2a2-7e72-4f76-a031-df401aa75c5e",
   "metadata": {},
   "outputs": [],
   "source": []
  }
 ],
 "metadata": {
  "kernelspec": {
   "display_name": "Python 3 (ipykernel)",
   "language": "python",
   "name": "python3"
  },
  "language_info": {
   "codemirror_mode": {
    "name": "ipython",
    "version": 3
   },
   "file_extension": ".py",
   "mimetype": "text/x-python",
   "name": "python",
   "nbconvert_exporter": "python",
   "pygments_lexer": "ipython3",
   "version": "3.8.10"
  }
 },
 "nbformat": 4,
 "nbformat_minor": 5
}
