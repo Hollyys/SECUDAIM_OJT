{
 "cells": [
  {
   "cell_type": "code",
   "execution_count": 20,
   "id": "80315fe0-cacc-4ea2-8970-c693a8bba7e9",
   "metadata": {},
   "outputs": [],
   "source": [
    "import time\n",
    "from threading import Thread\n",
    "\n",
    "def countdown(n):\n",
    "    while n>0:\n",
    "        n -= 1"
   ]
  },
  {
   "cell_type": "code",
   "execution_count": 21,
   "id": "dd8d19a7-5b5e-4388-a630-5f5a422cd34b",
   "metadata": {},
   "outputs": [
    {
     "name": "stdout",
     "output_type": "stream",
     "text": [
      "Time taken in seconds : 2.117074489593506\n"
     ]
    }
   ],
   "source": [
    "COUNT = 100000000\n",
    "\n",
    "start = time.time()\n",
    "countdown(COUNT)\n",
    "end = time.time()\n",
    "\n",
    "print('Time taken in seconds :', end - start)"
   ]
  },
  {
   "cell_type": "code",
   "execution_count": 22,
   "id": "db6d6026-0830-4455-b397-f562e0e23ad2",
   "metadata": {},
   "outputs": [
    {
     "name": "stdout",
     "output_type": "stream",
     "text": [
      "Time taken in seconds : 2.098538875579834\n"
     ]
    }
   ],
   "source": [
    "COUNT = 100000000\n",
    "\n",
    "t1 = Thread(target=countdown, args=(COUNT//2,))\n",
    "t2 = Thread(target=countdown, args=(COUNT//2,))\n",
    "\n",
    "start = time.time()\n",
    "t1.start()\n",
    "t2.start()\n",
    "t1.join()\n",
    "t2.join()\n",
    "end = time.time()\n",
    "\n",
    "print('Time taken in seconds :', end - start)"
   ]
  },
  {
   "cell_type": "code",
   "execution_count": 23,
   "id": "fdd59081-8c29-4032-a312-1b820657e871",
   "metadata": {},
   "outputs": [
    {
     "name": "stdout",
     "output_type": "stream",
     "text": [
      "Time taken in seconds : 2.10312819480896\n"
     ]
    }
   ],
   "source": [
    "from multiprocessing import Process\n",
    "\n",
    "# 프로세스 목록을 생성\n",
    "processes = []\n",
    "\n",
    "start = time.time()\n",
    "# 5개의 프로세스를 생성\n",
    "for i in range(2):\n",
    "    p = Process(target=countdown, args=(COUNT//2,))\n",
    "    processes.append(p)\n",
    "    p.start()\n",
    "\n",
    "# 모든 프로세스가 종료될 때까지 기다림\n",
    "    for process in processes:\n",
    "        process.join()\n",
    "\n",
    "end = time.time()\n",
    "\n",
    "print('Time taken in seconds :', end - start)"
   ]
  },
  {
   "cell_type": "code",
   "execution_count": 25,
   "id": "b1611815-c5ad-451d-b747-5c2dc6ef6913",
   "metadata": {},
   "outputs": [
    {
     "name": "stdout",
     "output_type": "stream",
     "text": [
      "Multithreading time: 1.4589314460754395\n",
      "Multiprocessing time: 0.40512704849243164\n",
      "Multithreading is 3.60 times slower than Multiprocessing.\n"
     ]
    }
   ],
   "source": [
    "import threading\n",
    "import multiprocessing\n",
    "import time\n",
    "\n",
    "def cpu_bound_task(n):\n",
    "    result = 0\n",
    "    for i in range(n):\n",
    "        result += i * i\n",
    "    return result\n",
    "\n",
    "def thread_worker(n):\n",
    "    cpu_bound_task(n)\n",
    "\n",
    "def process_worker(n):\n",
    "    cpu_bound_task(n)\n",
    "\n",
    "n = 10**7\n",
    "\n",
    "# Multithreading\n",
    "threads = []\n",
    "start_time = time.time()\n",
    "for _ in range(4):\n",
    "    t = threading.Thread(target=thread_worker, args=(n,))\n",
    "    threads.append(t)\n",
    "    t.start()\n",
    "for t in threads:\n",
    "    t.join()\n",
    "multithreading_time = time.time() - start_time\n",
    "print(\"Multithreading time:\", multithreading_time)\n",
    "\n",
    "# Multiprocessing\n",
    "processes = []\n",
    "start_time = time.time()\n",
    "for _ in range(4):\n",
    "    p = multiprocessing.Process(target=process_worker, args=(n,))\n",
    "    processes.append(p)\n",
    "    p.start()\n",
    "for p in processes:\n",
    "    p.join()\n",
    "multiprocessing_time = time.time() - start_time\n",
    "print(\"Multiprocessing time:\", multiprocessing_time)\n",
    "\n",
    "# Compare times\n",
    "print(f\"Multithreading is {multithreading_time / multiprocessing_time:.2f} times slower than Multiprocessing.\")\n"
   ]
  },
  {
   "cell_type": "code",
   "execution_count": null,
   "id": "2863c008-1f13-4809-ab88-b5c883f29b08",
   "metadata": {},
   "outputs": [],
   "source": []
  },
  {
   "cell_type": "code",
   "execution_count": null,
   "id": "b53111de-a77e-4598-bf95-f5172a853aef",
   "metadata": {},
   "outputs": [],
   "source": []
  }
 ],
 "metadata": {
  "kernelspec": {
   "display_name": "Python 3 (ipykernel)",
   "language": "python",
   "name": "python3"
  },
  "language_info": {
   "codemirror_mode": {
    "name": "ipython",
    "version": 3
   },
   "file_extension": ".py",
   "mimetype": "text/x-python",
   "name": "python",
   "nbconvert_exporter": "python",
   "pygments_lexer": "ipython3",
   "version": "3.8.10"
  }
 },
 "nbformat": 4,
 "nbformat_minor": 5
}
