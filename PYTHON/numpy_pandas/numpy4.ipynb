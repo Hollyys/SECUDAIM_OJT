{
 "cells": [
  {
   "cell_type": "code",
   "execution_count": 4,
   "id": "0794800b-2181-4ae3-bc0d-4b647e0f48e4",
   "metadata": {},
   "outputs": [],
   "source": [
    "import numpy as np"
   ]
  },
  {
   "cell_type": "code",
   "execution_count": 5,
   "id": "c11d87a4-35f5-4c72-a913-bece667cc5c0",
   "metadata": {},
   "outputs": [],
   "source": [
    "arr = np.array([1,2,3,4,5])\n",
    "np.save('array', arr)"
   ]
  },
  {
   "cell_type": "code",
   "execution_count": 6,
   "id": "6c0c39a0-8859-4af4-903f-e679efe7ee0d",
   "metadata": {},
   "outputs": [
    {
     "name": "stdout",
     "output_type": "stream",
     "text": [
      "[1 2 3 4 5]\n"
     ]
    }
   ],
   "source": [
    "loaded_arr = np.load('array.npy')\n",
    "print(loaded_arr)"
   ]
  },
  {
   "cell_type": "code",
   "execution_count": 7,
   "id": "e2d38121-57ff-4e9f-bafd-8fedaf60f074",
   "metadata": {},
   "outputs": [
    {
     "name": "stdout",
     "output_type": "stream",
     "text": [
      "[[1. 2. 3.]\n",
      " [4. 5. 6.]\n",
      " [7. 8. 9.]]\n"
     ]
    }
   ],
   "source": [
    "arr_2d = np.array([[1,2,3],[4,5,6],[7,8,9]])\n",
    "np.savetxt('array.txt', arr_2d)\n",
    "load_arr_2d = np.loadtxt('array.txt')\n",
    "print(load_arr_2d)"
   ]
  },
  {
   "cell_type": "code",
   "execution_count": 10,
   "id": "c66bfad2-5afa-4d70-bb5e-07c020de1bc0",
   "metadata": {},
   "outputs": [
    {
     "name": "stdout",
     "output_type": "stream",
     "text": [
      "[[        nan         nan         nan ...         nan         nan\n",
      "          nan]\n",
      " [1.00000e+00 6.00000e+01         nan ...         nan         nan\n",
      "  2.08500e+05]\n",
      " [2.00000e+00 2.00000e+01         nan ...         nan         nan\n",
      "  1.81500e+05]\n",
      " ...\n",
      " [1.45800e+03 7.00000e+01         nan ...         nan         nan\n",
      "  2.66500e+05]\n",
      " [1.45900e+03 2.00000e+01         nan ...         nan         nan\n",
      "  1.42125e+05]\n",
      " [1.46000e+03 2.00000e+01         nan ...         nan         nan\n",
      "  1.47500e+05]]\n"
     ]
    }
   ],
   "source": [
    "data = np.genfromtxt('train.csv', delimiter=',')\n",
    "print(data)"
   ]
  },
  {
   "cell_type": "code",
   "execution_count": null,
   "id": "e0866638-2c54-468f-b06a-76d84b026e56",
   "metadata": {},
   "outputs": [],
   "source": []
  }
 ],
 "metadata": {
  "kernelspec": {
   "display_name": "Python 3 (ipykernel)",
   "language": "python",
   "name": "python3"
  },
  "language_info": {
   "codemirror_mode": {
    "name": "ipython",
    "version": 3
   },
   "file_extension": ".py",
   "mimetype": "text/x-python",
   "name": "python",
   "nbconvert_exporter": "python",
   "pygments_lexer": "ipython3",
   "version": "3.8.10"
  }
 },
 "nbformat": 4,
 "nbformat_minor": 5
}
